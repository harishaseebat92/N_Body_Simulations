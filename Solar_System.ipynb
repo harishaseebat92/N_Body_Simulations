{
  "cells": [
    {
      "cell_type": "markdown",
      "metadata": {
        "id": "Ck4aGTgsDxEM"
      },
      "source": [
        "SIMULATING AN ORBITAL SYSTEM\n",
        "\n",
        "\n",
        "1.   Brute Force\n"
      ]
    },
    {
      "cell_type": "code",
      "execution_count": 2,
      "metadata": {
        "id": "mgbtOj7PuoJ3"
      },
      "outputs": [],
      "source": [
        "import numpy as np\n",
        "import matplotlib.pyplot as plt\n",
        "import matplotlib.animation as manimation"
      ]
    },
    {
      "cell_type": "markdown",
      "metadata": {
        "id": "aQJmP2gMuhLh"
      },
      "source": [
        "Initialization of Simulation Parameters\n",
        "\n"
      ]
    },
    {
      "cell_type": "code",
      "execution_count": 3,
      "metadata": {
        "id": "g89n8C0Pu8dY"
      },
      "outputs": [],
      "source": [
        "t0 = 0\n",
        "dt = 86400;\n",
        "tf = 86400* 365 * 10\n",
        "G = 6.67e-11\n",
        "\n",
        "t = np.arange(0,tf+dt, dt)\n",
        "r = np.zeros((len(t),3,9))\n",
        "v = np.zeros((len(t),3,9))\n",
        "m = np.array([1.989*10**6,0.33011,4.867,5.97,0.64,1898,568.34,86.81,102.41])*10**24\n",
        "r[0,0,:]=np.array([0,57.9,108.21,149.59,227.92,778.57,1453.53,2872.46,4495.06])*10**9\n",
        "v[0,1,:]=np.array([0,47.36,35.02,29.78,24.07,13,9.68,6.8,5.43])*10**3"
      ]
    },
    {
      "cell_type": "markdown",
      "metadata": {
        "id": "KkUZE09y7Cko"
      },
      "source": [
        "Propagation"
      ]
    },
    {
      "cell_type": "code",
      "execution_count": 9,
      "metadata": {
        "id": "Urgui9SHOHjR"
      },
      "outputs": [],
      "source": [
        "for i in range(len(t)-1):#Time-Frame\n",
        "  for j in range(5):# 4 = No. of Planets\n",
        "    a = np.zeros(3) # acceleration vector\n",
        "    for k in range(5):\n",
        "      if k!= j:\n",
        "        Rmag = np.linalg.norm(r[i,:,j]-r[i,:,k])\n",
        "        a[:] += -((G*m[k])/(Rmag)**2)* (r[i,:,j]-r[i,:,k])/(Rmag)\n",
        "    v[i+1,:,j] = v[i,:,j] + a[:]*dt\n",
        "    r[i+1,:,j] = r[i,:,j] + v[i+1,:,j]*dt"
      ]
    },
    {
      "cell_type": "markdown",
      "metadata": {
        "id": "azug3uUFGhp2"
      },
      "source": [
        "Plotting"
      ]
    },
    {
      "cell_type": "code",
      "execution_count": 5,
      "metadata": {
        "colab": {
          "base_uri": "https://localhost:8080/",
          "height": 289
        },
        "id": "ZTpZV-ZGGi66",
        "outputId": "2f370a0f-4e0c-486b-d0d1-30ff549c5d31"
      },
      "outputs": [
        {
          "data": {
            "image/png": "[encoded data removed]",
            "text/plain": [
              "<Figure size 432x288 with 1 Axes>"
            ]
          },
          "metadata": {
            "needs_background": "light"
          },
          "output_type": "display_data"
        }
      ],
      "source": [
        "plt.scatter(t,r[:,0,2],s=0.1)\n",
        "plt.show()  \n"
      ]
    },
    {
      "cell_type": "code",
      "execution_count": 11,
      "metadata": {
        "colab": {
          "base_uri": "https://localhost:8080/",
          "height": 308
        },
        "id": "2VjUyUaKu1N1",
        "outputId": "1e83f651-eb6f-43ef-f196-224fd2c83228"
      },
      "outputs": [
        {
          "data": {
            "text/plain": [
              "<matplotlib.collections.PathCollection at 0x7fdf8cdaf880>"
            ]
          },
          "execution_count": 11,
          "metadata": {},
          "output_type": "execute_result"
        },
        {
          "data": {
            "image/png": "[encoded data removed]",
            "text/plain": [
              "<Figure size 432x288 with 1 Axes>"
            ]
          },
          "metadata": {
            "needs_background": "light"
          },
          "output_type": "display_data"
        }
      ],
      "source": [
        "plt.scatter(r[:,0,4],r[:,1,4],s=0.1)\n"
      ]
    }
  ],
  "metadata": {
    "colab": {
      "collapsed_sections": [],
      "name": "Solar System.ipynb",
      "provenance": []
    },
    "kernelspec": {
      "display_name": "Python 3.10.5 64-bit",
      "language": "python",
      "name": "python3"
    },
    "language_info": {
      "codemirror_mode": {
        "name": "ipython",
        "version": 3
      },
      "file_extension": ".py",
      "mimetype": "text/x-python",
      "name": "python",
      "nbconvert_exporter": "python",
      "pygments_lexer": "ipython3",
      "version": "3.10.5"
    },
    "vscode": {
      "interpreter": {
        "hash": "e7370f93d1d0cde622a1f8e1c04877d8463912d04d973331ad4851f04de6915a"
      }
    }
  },
  "nbformat": 4,
  "nbformat_minor": 0
}
